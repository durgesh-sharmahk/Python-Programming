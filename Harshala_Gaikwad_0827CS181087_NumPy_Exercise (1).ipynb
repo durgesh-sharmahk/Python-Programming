{
  "nbformat": 4,
  "nbformat_minor": 0,
  "metadata": {
    "colab": {
      "name": "Harshala_Gaikwad_0827CS181087_NumPy_Exercise.ipynb",
      "provenance": []
    },
    "kernelspec": {
      "display_name": "Python 3",
      "language": "python",
      "name": "python3"
    },
    "language_info": {
      "codemirror_mode": {
        "name": "ipython",
        "version": 3
      },
      "file_extension": ".py",
      "mimetype": "text/x-python",
      "name": "python",
      "nbconvert_exporter": "python",
      "pygments_lexer": "ipython3",
      "version": "3.7.3"
    }
  },
  "cells": [
    {
      "cell_type": "markdown",
      "metadata": {
        "id": "EvMvShsqB--z"
      },
      "source": [
        "### Import numpy library  "
      ]
    },
    {
      "cell_type": "code",
      "metadata": {
        "id": "rJGO_G8aB-_Z"
      },
      "source": [
        "import numpy as np"
      ],
      "execution_count": 11,
      "outputs": []
    },
    {
      "cell_type": "markdown",
      "metadata": {
        "id": "ugEj3s1PB-_e"
      },
      "source": [
        "### Create an Array using array function  "
      ]
    },
    {
      "cell_type": "code",
      "metadata": {
        "colab": {
          "base_uri": "https://localhost:8080/"
        },
        "id": "uCqW4PvaB-_f",
        "outputId": "9d64dcbc-0991-4f39-a35a-a235ac1cc41d"
      },
      "source": [
        "ar = np.array([1,2,3])\n",
        "ar"
      ],
      "execution_count": null,
      "outputs": [
        {
          "output_type": "execute_result",
          "data": {
            "text/plain": [
              "array([1, 2, 3])"
            ]
          },
          "metadata": {
            "tags": []
          },
          "execution_count": 2
        }
      ]
    },
    {
      "cell_type": "markdown",
      "metadata": {
        "id": "MIhMqJ_aB-_g"
      },
      "source": [
        "### Create an Array containing numbers from 20 to 40 "
      ]
    },
    {
      "cell_type": "code",
      "metadata": {
        "colab": {
          "base_uri": "https://localhost:8080/"
        },
        "id": "rJh2nuRuB-_h",
        "outputId": "9c35c7c4-9950-49e1-bde4-e2e446af59bc"
      },
      "source": [
        "ar = np.array(range(20,41))\n",
        "ar"
      ],
      "execution_count": null,
      "outputs": [
        {
          "output_type": "execute_result",
          "data": {
            "text/plain": [
              "array([20, 21, 22, 23, 24, 25, 26, 27, 28, 29, 30, 31, 32, 33, 34, 35, 36,\n",
              "       37, 38, 39, 40])"
            ]
          },
          "metadata": {
            "tags": []
          },
          "execution_count": 3
        }
      ]
    },
    {
      "cell_type": "markdown",
      "metadata": {
        "id": "ffKrsle5B-_i"
      },
      "source": [
        "### Create an array which contain 10 elements and every element is 5  "
      ]
    },
    {
      "cell_type": "code",
      "metadata": {
        "colab": {
          "base_uri": "https://localhost:8080/"
        },
        "id": "kdsQ_AvFB-_j",
        "outputId": "4821bfaf-7544-4dc6-b4d3-dc08be997238"
      },
      "source": [
        "ar = np.ones(10)*5\n",
        "ar"
      ],
      "execution_count": null,
      "outputs": [
        {
          "output_type": "execute_result",
          "data": {
            "text/plain": [
              "array([5., 5., 5., 5., 5., 5., 5., 5., 5., 5.])"
            ]
          },
          "metadata": {
            "tags": []
          },
          "execution_count": 4
        }
      ]
    },
    {
      "cell_type": "markdown",
      "metadata": {
        "id": "c0AXv5qLB-_k"
      },
      "source": [
        "### create a 1-d array and then convert it into 3-d array  "
      ]
    },
    {
      "cell_type": "code",
      "metadata": {
        "colab": {
          "base_uri": "https://localhost:8080/"
        },
        "id": "HPgpqIYHB-_l",
        "outputId": "f967dbaa-4549-4e85-9462-d05f4f8fc691"
      },
      "source": [
        "ar = np.array([1,2,3,4,5,6,7,8,9,10,11,12,13,14,15,16,17,18])\n",
        "ar2 = ar.reshape(2,3,3)\n",
        "ar2"
      ],
      "execution_count": null,
      "outputs": [
        {
          "output_type": "execute_result",
          "data": {
            "text/plain": [
              "array([[[ 1,  2,  3],\n",
              "        [ 4,  5,  6],\n",
              "        [ 7,  8,  9]],\n",
              "\n",
              "       [[10, 11, 12],\n",
              "        [13, 14, 15],\n",
              "        [16, 17, 18]]])"
            ]
          },
          "metadata": {
            "tags": []
          },
          "execution_count": 5
        }
      ]
    },
    {
      "cell_type": "markdown",
      "metadata": {
        "id": "0MdGf1BXB-_m"
      },
      "source": [
        "### Create 2-d array which contains random 25 numbers between 0 and 1 "
      ]
    },
    {
      "cell_type": "code",
      "metadata": {
        "colab": {
          "base_uri": "https://localhost:8080/"
        },
        "id": "Ob0tM1BGB-_m",
        "outputId": "b348f318-2430-4bd0-98a2-93fdf9c7b89a"
      },
      "source": [
        "ar = np.random.rand(5,5)\n",
        "print(ar)"
      ],
      "execution_count": null,
      "outputs": [
        {
          "output_type": "stream",
          "text": [
            "[[0.17511778 0.89131473 0.53327408 0.13262619 0.82872635]\n",
            " [0.96478237 0.32756432 0.68054912 0.51949849 0.98544637]\n",
            " [0.48344349 0.19069068 0.50476651 0.62079723 0.75129497]\n",
            " [0.00755801 0.8969071  0.53457395 0.8664747  0.31037175]\n",
            " [0.96108101 0.68724705 0.63737435 0.05369129 0.66388007]]\n"
          ],
          "name": "stdout"
        }
      ]
    },
    {
      "cell_type": "markdown",
      "metadata": {
        "id": "55cd95AEB-_n"
      },
      "source": [
        "### create array containing 20 random integer then replace every even number with -1 \n",
        "#### Example - \n",
        "####                  array --- >  [44,55,12,6,3] \n",
        "####                  ouput ----> [-1,55, -1,-1,3]\n"
      ]
    },
    {
      "cell_type": "code",
      "metadata": {
        "colab": {
          "base_uri": "https://localhost:8080/"
        },
        "id": "WwFOkqxfB-_o",
        "outputId": "61932e5b-a972-4d48-a024-25816997540b"
      },
      "source": [
        "ar = np.random.randint(100,size=20)\n",
        "print(ar)\n",
        "ar2 = np.where(ar%2 == 0, -1, ar)\n",
        "print(ar2)"
      ],
      "execution_count": null,
      "outputs": [
        {
          "output_type": "stream",
          "text": [
            "[35  3 81 21  6 43 22 93 73 92 67 87 38 20  4 79 58 53 98 80]\n",
            "[35  3 81 21 -1 43 -1 93 73 -1 67 87 -1 -1 -1 79 -1 53 -1 -1]\n"
          ],
          "name": "stdout"
        }
      ]
    },
    {
      "cell_type": "markdown",
      "metadata": {
        "id": "yXVDV9rwB-_p"
      },
      "source": [
        "#### You have a matrix \n",
        "[[5 , 10, 15, 20, 25],\n",
        "[30, 35, 40, 45, 50],\n",
        "[55, 60, 65, 70, 75],\n",
        "[80, 85, 90, 95, 100]]\n",
        "\n",
        "Extract\n",
        "[30,35,40]\n",
        "[55, 60, 65]"
      ]
    },
    {
      "cell_type": "code",
      "metadata": {
        "colab": {
          "background_save": true,
          "base_uri": "https://localhost:8080/"
        },
        "id": "T4_v7j7oB-_p",
        "outputId": "df33a789-c867-4769-f922-7e80bbdcb9d7"
      },
      "source": [
        "ar = np.array([[5 , 10, 15, 20, 25], [30, 35, 40, 45, 50], [55, 60, 65, 70, 75], [80, 85, 90, 95, 100]])\n",
        "print(ar[1][:3])\n",
        "print(ar[2][:3])"
      ],
      "execution_count": null,
      "outputs": [
        {
          "output_type": "stream",
          "text": [
            "[30 35 40]\n",
            "[55 60 65]\n"
          ],
          "name": "stdout"
        }
      ]
    },
    {
      "cell_type": "markdown",
      "metadata": {
        "id": "eK9lWywTB-_q"
      },
      "source": [
        "### Concatenate two 1-d array   "
      ]
    },
    {
      "cell_type": "code",
      "metadata": {
        "colab": {
          "base_uri": "https://localhost:8080/"
        },
        "id": "meObTNxXB-_r",
        "outputId": "4f6034e6-1411-4d5c-9690-d71483edca4f"
      },
      "source": [
        "ar = [1,2,3]\n",
        "ar2 = [4,5,6]\n",
        "ar+ar2"
      ],
      "execution_count": null,
      "outputs": [
        {
          "output_type": "execute_result",
          "data": {
            "text/plain": [
              "[1, 2, 3, 4, 5, 6]"
            ]
          },
          "metadata": {
            "tags": []
          },
          "execution_count": 29
        }
      ]
    },
    {
      "cell_type": "markdown",
      "metadata": {
        "id": "G8ioZWSeB-_t"
      },
      "source": [
        "### Stack 2-d matrix horizontally and vertically"
      ]
    },
    {
      "cell_type": "code",
      "metadata": {
        "colab": {
          "base_uri": "https://localhost:8080/"
        },
        "id": "5oWH_KIqB-_u",
        "outputId": "8b8a42a7-30d3-4041-ced5-b305e709d09b"
      },
      "source": [
        "a = np.array([[1,2,30],[10,15,4]])\n",
        "b = np.array([[1,2,3],[12,19,29]])\n",
        "print(\"Horizontal Stacking\")\n",
        "print(np.hstack((a,b)))\n",
        "print(\"Vertical Stacking\")\n",
        "print(np.vstack((a,b)))"
      ],
      "execution_count": 13,
      "outputs": [
        {
          "output_type": "stream",
          "text": [
            "Horizontal Stacking\n",
            "[[ 1  2 30  1  2  3]\n",
            " [10 15  4 12 19 29]]\n",
            "Vertical Stacking\n",
            "[[ 1  2 30]\n",
            " [10 15  4]\n",
            " [ 1  2  3]\n",
            " [12 19 29]]\n"
          ],
          "name": "stdout"
        }
      ]
    }
  ]
}